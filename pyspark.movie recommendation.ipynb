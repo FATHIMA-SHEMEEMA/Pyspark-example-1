{
 "cells": [
  {
   "cell_type": "markdown",
   "id": "f1115d47",
   "metadata": {},
   "source": [
    "# Movie Recommendation with Pyspark"
   ]
  },
  {
   "cell_type": "code",
   "execution_count": 1,
   "id": "6889eac0",
   "metadata": {},
   "outputs": [
    {
     "name": "stdout",
     "output_type": "stream",
     "text": [
      "Requirement already satisfied: pyspark in c:\\users\\fathima shemeema\\anaconda3\\lib\\site-packages (3.3.2)\n",
      "Requirement already satisfied: py4j==0.10.9.5 in c:\\users\\fathima shemeema\\anaconda3\\lib\\site-packages (from pyspark) (0.10.9.5)\n",
      "Note: you may need to restart the kernel to use updated packages.\n"
     ]
    }
   ],
   "source": [
    "pip install pyspark"
   ]
  },
  {
   "cell_type": "code",
   "execution_count": 3,
   "id": "8e39c89d",
   "metadata": {},
   "outputs": [],
   "source": [
    "import numpy as np\n",
    "import pandas as pd\n",
    "import random \n",
    "import os\n",
    "\n",
    "from pyspark.sql import SparkSession\n",
    "from pyspark.ml import Pipeline\n",
    "from pyspark.sql import SQLContext\n",
    "from pyspark.sql.functions import mean,col,split,col,regexp_extract,when,lit\n",
    "from pyspark.ml.feature import StringIndexer, VectorAssembler\n",
    "from pyspark.ml.evaluation import MulticlassClassificationEvaluator\n",
    "from pyspark.ml.feature import QuantileDiscretizer\n"
   ]
  },
  {
   "cell_type": "code",
   "execution_count": 4,
   "id": "559ae6d3",
   "metadata": {},
   "outputs": [],
   "source": [
    "#Create a SparkSession\n",
    "\n",
    "spark=SparkSession.builder.appName('recommendater_system').getOrCreate()\n",
    "\n"
   ]
  },
  {
   "cell_type": "code",
   "execution_count": 5,
   "id": "87faa41a",
   "metadata": {},
   "outputs": [
    {
     "data": {
      "text/html": [
       "<div>\n",
       "<style scoped>\n",
       "    .dataframe tbody tr th:only-of-type {\n",
       "        vertical-align: middle;\n",
       "    }\n",
       "\n",
       "    .dataframe tbody tr th {\n",
       "        vertical-align: top;\n",
       "    }\n",
       "\n",
       "    .dataframe thead th {\n",
       "        text-align: right;\n",
       "    }\n",
       "</style>\n",
       "<table border=\"1\" class=\"dataframe\">\n",
       "  <thead>\n",
       "    <tr style=\"text-align: right;\">\n",
       "      <th></th>\n",
       "      <th>userId</th>\n",
       "      <th>title</th>\n",
       "      <th>rating</th>\n",
       "    </tr>\n",
       "  </thead>\n",
       "  <tbody>\n",
       "    <tr>\n",
       "      <th>0</th>\n",
       "      <td>196</td>\n",
       "      <td>Kolya (1996)</td>\n",
       "      <td>3</td>\n",
       "    </tr>\n",
       "    <tr>\n",
       "      <th>1</th>\n",
       "      <td>63</td>\n",
       "      <td>Kolya (1996)</td>\n",
       "      <td>3</td>\n",
       "    </tr>\n",
       "    <tr>\n",
       "      <th>2</th>\n",
       "      <td>226</td>\n",
       "      <td>Kolya (1996)</td>\n",
       "      <td>5</td>\n",
       "    </tr>\n",
       "    <tr>\n",
       "      <th>3</th>\n",
       "      <td>154</td>\n",
       "      <td>Kolya (1996)</td>\n",
       "      <td>3</td>\n",
       "    </tr>\n",
       "    <tr>\n",
       "      <th>4</th>\n",
       "      <td>306</td>\n",
       "      <td>Kolya (1996)</td>\n",
       "      <td>5</td>\n",
       "    </tr>\n",
       "  </tbody>\n",
       "</table>\n",
       "</div>"
      ],
      "text/plain": [
       "   userId         title  rating\n",
       "0     196  Kolya (1996)       3\n",
       "1      63  Kolya (1996)       3\n",
       "2     226  Kolya (1996)       5\n",
       "3     154  Kolya (1996)       3\n",
       "4     306  Kolya (1996)       5"
      ]
     },
     "execution_count": 5,
     "metadata": {},
     "output_type": "execute_result"
    }
   ],
   "source": [
    "df=spark.read.csv(r\"C:\\Users\\FATHIMA SHEMEEMA\\Desktop\\pyspark\\movie_ratings_df.csv\", inferSchema=True,header=True)\n",
    "df.limit(5).toPandas()"
   ]
  },
  {
   "cell_type": "code",
   "execution_count": 6,
   "id": "2fa22ab4",
   "metadata": {},
   "outputs": [
    {
     "name": "stdout",
     "output_type": "stream",
     "text": [
      "root\n",
      " |-- userId: integer (nullable = true)\n",
      " |-- title: string (nullable = true)\n",
      " |-- rating: integer (nullable = true)\n",
      "\n"
     ]
    }
   ],
   "source": [
    "#printSchema() to quick overview of features datatype\n",
    "\n",
    "df.printSchema()"
   ]
  },
  {
   "cell_type": "code",
   "execution_count": 8,
   "id": "9bc4cb72",
   "metadata": {},
   "outputs": [
    {
     "data": {
      "text/html": [
       "<div>\n",
       "<style scoped>\n",
       "    .dataframe tbody tr th:only-of-type {\n",
       "        vertical-align: middle;\n",
       "    }\n",
       "\n",
       "    .dataframe tbody tr th {\n",
       "        vertical-align: top;\n",
       "    }\n",
       "\n",
       "    .dataframe thead th {\n",
       "        text-align: right;\n",
       "    }\n",
       "</style>\n",
       "<table border=\"1\" class=\"dataframe\">\n",
       "  <thead>\n",
       "    <tr style=\"text-align: right;\">\n",
       "      <th></th>\n",
       "      <th>userId</th>\n",
       "      <th>title</th>\n",
       "      <th>rating</th>\n",
       "      <th>title_new</th>\n",
       "    </tr>\n",
       "  </thead>\n",
       "  <tbody>\n",
       "    <tr>\n",
       "      <th>0</th>\n",
       "      <td>196</td>\n",
       "      <td>Kolya (1996)</td>\n",
       "      <td>3</td>\n",
       "      <td>287.0</td>\n",
       "    </tr>\n",
       "    <tr>\n",
       "      <th>1</th>\n",
       "      <td>63</td>\n",
       "      <td>Kolya (1996)</td>\n",
       "      <td>3</td>\n",
       "      <td>287.0</td>\n",
       "    </tr>\n",
       "    <tr>\n",
       "      <th>2</th>\n",
       "      <td>226</td>\n",
       "      <td>Kolya (1996)</td>\n",
       "      <td>5</td>\n",
       "      <td>287.0</td>\n",
       "    </tr>\n",
       "    <tr>\n",
       "      <th>3</th>\n",
       "      <td>154</td>\n",
       "      <td>Kolya (1996)</td>\n",
       "      <td>3</td>\n",
       "      <td>287.0</td>\n",
       "    </tr>\n",
       "    <tr>\n",
       "      <th>4</th>\n",
       "      <td>306</td>\n",
       "      <td>Kolya (1996)</td>\n",
       "      <td>5</td>\n",
       "      <td>287.0</td>\n",
       "    </tr>\n",
       "  </tbody>\n",
       "</table>\n",
       "</div>"
      ],
      "text/plain": [
       "   userId         title  rating  title_new\n",
       "0     196  Kolya (1996)       3      287.0\n",
       "1      63  Kolya (1996)       3      287.0\n",
       "2     226  Kolya (1996)       5      287.0\n",
       "3     154  Kolya (1996)       3      287.0\n",
       "4     306  Kolya (1996)       5      287.0"
      ]
     },
     "execution_count": 8,
     "metadata": {},
     "output_type": "execute_result"
    }
   ],
   "source": [
    "#As we can see, the title column is stored as string type. To work with pyspark Mlib library, we need to convert string type to numeric values\n",
    "\n",
    "from pyspark.ml.feature import StringIndexer, IndexToString\n",
    "\n",
    "stringIndexer=StringIndexer(inputCol=\"title\", outputCol=\"title_new\")\n",
    "\n",
    "# Applying stringindexer object on dataframe movie title column\n",
    "model=stringIndexer.fit(df)\n",
    "#creating new dataframe with transformed values\n",
    "indexed=model.transform(df)\n",
    "#validate the numerical title values\n",
    "indexed.limit(5).toPandas()\n",
    "\n"
   ]
  },
  {
   "cell_type": "code",
   "execution_count": null,
   "id": "b5631277",
   "metadata": {},
   "outputs": [],
   "source": [
    "#We use Alternating least squares (ALS) algorithm in Pyspark Ml library for recommendation.\n",
    "#To read more, you can visit at\n",
    "#https://spark.apache.org/docs/2.2.0/ml-collaborative-filtering.html\n",
    "\n"
   ]
  },
  {
   "cell_type": "code",
   "execution_count": 10,
   "id": "4d185ff8",
   "metadata": {},
   "outputs": [],
   "source": [
    "# split the data into training and test datatset\n",
    "\n",
    "train,test=indexed.randomSplit([0.75,0.25])\n",
    "from pyspark.ml.recommendation import ALS\n",
    "\n",
    "#Training the recommender model using train datatset\n",
    "rec=ALS(maxIter=10,\n",
    "       regParam=0.01,userCol='userId',itemCol='title_new',ratingCol='rating',\n",
    "       nonnegative=True,coldStartStrategy=\"drop\")"
   ]
  },
  {
   "cell_type": "code",
   "execution_count": 11,
   "id": "cfc963b9",
   "metadata": {},
   "outputs": [],
   "source": [
    "#fit the model on train set\n",
    "rec_model=rec.fit(train)\n",
    "\n"
   ]
  },
  {
   "cell_type": "code",
   "execution_count": 15,
   "id": "84eacbe6",
   "metadata": {},
   "outputs": [
    {
     "data": {
      "text/html": [
       "<div>\n",
       "<style scoped>\n",
       "    .dataframe tbody tr th:only-of-type {\n",
       "        vertical-align: middle;\n",
       "    }\n",
       "\n",
       "    .dataframe tbody tr th {\n",
       "        vertical-align: top;\n",
       "    }\n",
       "\n",
       "    .dataframe thead th {\n",
       "        text-align: right;\n",
       "    }\n",
       "</style>\n",
       "<table border=\"1\" class=\"dataframe\">\n",
       "  <thead>\n",
       "    <tr style=\"text-align: right;\">\n",
       "      <th></th>\n",
       "      <th>userId</th>\n",
       "      <th>title</th>\n",
       "      <th>rating</th>\n",
       "      <th>title_new</th>\n",
       "      <th>prediction</th>\n",
       "    </tr>\n",
       "  </thead>\n",
       "  <tbody>\n",
       "    <tr>\n",
       "      <th>0</th>\n",
       "      <td>148</td>\n",
       "      <td>Deer Hunter, The (1978)</td>\n",
       "      <td>1</td>\n",
       "      <td>280.0</td>\n",
       "      <td>5.172204</td>\n",
       "    </tr>\n",
       "    <tr>\n",
       "      <th>1</th>\n",
       "      <td>148</td>\n",
       "      <td>Fantasia (1940)</td>\n",
       "      <td>5</td>\n",
       "      <td>153.0</td>\n",
       "      <td>5.202687</td>\n",
       "    </tr>\n",
       "    <tr>\n",
       "      <th>2</th>\n",
       "      <td>148</td>\n",
       "      <td>Free Willy (1993)</td>\n",
       "      <td>1</td>\n",
       "      <td>761.0</td>\n",
       "      <td>3.955402</td>\n",
       "    </tr>\n",
       "    <tr>\n",
       "      <th>3</th>\n",
       "      <td>148</td>\n",
       "      <td>Gone with the Wind (1939)</td>\n",
       "      <td>5</td>\n",
       "      <td>162.0</td>\n",
       "      <td>4.380488</td>\n",
       "    </tr>\n",
       "    <tr>\n",
       "      <th>4</th>\n",
       "      <td>148</td>\n",
       "      <td>Good, The Bad and The Ugly, The (1966)</td>\n",
       "      <td>2</td>\n",
       "      <td>223.0</td>\n",
       "      <td>4.963204</td>\n",
       "    </tr>\n",
       "  </tbody>\n",
       "</table>\n",
       "</div>"
      ],
      "text/plain": [
       "   userId                                   title  rating  title_new  \\\n",
       "0     148                 Deer Hunter, The (1978)       1      280.0   \n",
       "1     148                         Fantasia (1940)       5      153.0   \n",
       "2     148                       Free Willy (1993)       1      761.0   \n",
       "3     148               Gone with the Wind (1939)       5      162.0   \n",
       "4     148  Good, The Bad and The Ugly, The (1966)       2      223.0   \n",
       "\n",
       "   prediction  \n",
       "0    5.172204  \n",
       "1    5.202687  \n",
       "2    3.955402  \n",
       "3    4.380488  \n",
       "4    4.963204  "
      ]
     },
     "execution_count": 15,
     "metadata": {},
     "output_type": "execute_result"
    }
   ],
   "source": [
    "##making predictions on test set\n",
    "predicted_rating=rec_model.transform(test)\n",
    "predicted_rating.limit(5).toPandas()"
   ]
  },
  {
   "cell_type": "markdown",
   "id": "71290106",
   "metadata": {},
   "source": [
    "# Evaluate the training\n",
    "\n"
   ]
  },
  {
   "cell_type": "code",
   "execution_count": 22,
   "id": "d14c2e5f",
   "metadata": {},
   "outputs": [
    {
     "name": "stdout",
     "output_type": "stream",
     "text": [
      "1.0173988274136665\n"
     ]
    }
   ],
   "source": [
    "# Importing Regression Evaluator to measure RMSE\n",
    "\n",
    "from pyspark.ml.evaluation import RegressionEvaluator\n",
    "\n",
    "# create Regressor evaluator object for measuring accuracy\n",
    "evaluator=RegressionEvaluator(metricName='rmse',predictionCol='prediction',labelCol='rating')\n",
    "\n",
    "                              \n",
    "# apply the RE on predictions dataframe to calculate RMSE\n",
    "rmse=evaluator.evaluate(predicted_rating)\n",
    "\n",
    "#print RMSE error\n",
    "print(rmse)\n",
    "                              \n",
    "                              "
   ]
  },
  {
   "cell_type": "code",
   "execution_count": 24,
   "id": "071bdd74",
   "metadata": {},
   "outputs": [],
   "source": [
    "#recommend top movies which user might like\n",
    "\n",
    "\n",
    "# First we need to create dataset of all distinct movies \n",
    "unique_movies=indexed.select('title_new').distinct()\n",
    "\n",
    "#create function to recommend top 'n' movies to any particular user\n",
    "def top_movies(user_id,n):\n",
    "    \"\"\"\n",
    "    This function returns the top 'n' movies that user has not seen yet but might like \n",
    "    \n",
    "    \"\"\"\n",
    "    #assigning alias name 'a' to unique movies df\n",
    "    a = unique_movies.alias('a')\n",
    "    \n",
    "    #creating another dataframe which contains already watched movie by active user \n",
    "    watched_movies=indexed.filter(indexed['userId'] == user_id).select('title_new')\n",
    "    \n",
    "    #assigning alias name 'b' to watched movies df\n",
    "    b=watched_movies.alias('b')\n",
    "    \n",
    "    #joining both tables on left join \n",
    "    total_movies = a.join(b, a.title_new == b.title_new,how='left')\n",
    "    \n",
    "    #selecting movies which active user is yet to rate or watch\n",
    "    remaining_movies=total_movies.where(col(\"b.title_new\").isNull()).select(a.title_new).distinct()\n",
    "    \n",
    "    \n",
    "    #adding new column of user_Id of active useer to remaining movies df \n",
    "    remaining_movies=remaining_movies.withColumn(\"userId\",lit(int(user_id)))\n",
    "    \n",
    "    \n",
    "    #making recommendations using ALS recommender model and selecting only top 'n' movies\n",
    "    recommendations=rec_model.transform(remaining_movies).orderBy('prediction',ascending=False).limit(n)\n",
    "    \n",
    "    \n",
    "    #adding columns of movie titles in recommendations\n",
    "    movie_title = IndexToString(inputCol=\"title_new\", outputCol=\"title\",labels=model.labels)\n",
    "    final_recommendations=movie_title.transform(recommendations)\n",
    "    \n",
    "    #return the recommendations to active user\n",
    "    return final_recommendations.show(n,False)"
   ]
  },
  {
   "cell_type": "code",
   "execution_count": 27,
   "id": "bb28cb18",
   "metadata": {},
   "outputs": [
    {
     "name": "stdout",
     "output_type": "stream",
     "text": [
      "+---------+------+----------+----------------------------------------------------------+\n",
      "|title_new|userId|prediction|title                                                     |\n",
      "+---------+------+----------+----------------------------------------------------------+\n",
      "|1347.0   |6     |6.728834  |Angel Baby (1995)                                         |\n",
      "|917.0    |6     |5.899893  |Top Hat (1935)                                            |\n",
      "|1198.0   |6     |5.5329914 |Pather Panchali (1955)                                    |\n",
      "|428.0    |6     |5.4884787 |Shadowlands (1993)                                        |\n",
      "|1252.0   |6     |5.4807067 |Year of the Horse (1997)                                  |\n",
      "|663.0    |6     |5.259537  |When We Were Kings (1996)                                 |\n",
      "|1122.0   |6     |5.1895137 |Faithful (1996)                                           |\n",
      "|1155.0   |6     |5.176357  |Horseman on the Roof, The (Hussard sur le toit, Le) (1995)|\n",
      "|465.0    |6     |4.9617    |Ran (1985)                                                |\n",
      "|913.0    |6     |4.902338  |Mis�rables, Les (1995)                                    |\n",
      "|1109.0   |6     |4.8988614 |Unzipped (1995)                                           |\n",
      "|108.0    |6     |4.8967657 |Rear Window (1954)                                        |\n",
      "|865.0    |6     |4.8629985 |Burnt By the Sun (1994)                                   |\n",
      "|539.0    |6     |4.8568344 |39 Steps, The (1935)                                      |\n",
      "|984.0    |6     |4.824417  |Bad Taste (1987)                                          |\n",
      "|981.0    |6     |4.765501  |Stupids, The (1996)                                       |\n",
      "|991.0    |6     |4.7394767 |Gang Related (1997)                                       |\n",
      "|1268.0   |6     |4.7304573 |Flower of My Secret, The (Flor de mi secreto, La) (1995)  |\n",
      "|1207.0   |6     |4.713682  |Aparajito (1956)                                          |\n",
      "|763.0    |6     |4.679181  |Paths of Glory (1957)                                     |\n",
      "+---------+------+----------+----------------------------------------------------------+\n",
      "\n"
     ]
    }
   ],
   "source": [
    "# Test: recommend 5 movies for user of id=60\n",
    "top_movies(6,20)"
   ]
  },
  {
   "cell_type": "code",
   "execution_count": null,
   "id": "4796eb13",
   "metadata": {},
   "outputs": [],
   "source": []
  },
  {
   "cell_type": "code",
   "execution_count": null,
   "id": "a5e99474",
   "metadata": {},
   "outputs": [],
   "source": []
  },
  {
   "cell_type": "code",
   "execution_count": null,
   "id": "96e645f2",
   "metadata": {},
   "outputs": [],
   "source": []
  }
 ],
 "metadata": {
  "kernelspec": {
   "display_name": "Python 3 (ipykernel)",
   "language": "python",
   "name": "python3"
  },
  "language_info": {
   "codemirror_mode": {
    "name": "ipython",
    "version": 3
   },
   "file_extension": ".py",
   "mimetype": "text/x-python",
   "name": "python",
   "nbconvert_exporter": "python",
   "pygments_lexer": "ipython3",
   "version": "3.9.13"
  }
 },
 "nbformat": 4,
 "nbformat_minor": 5
}
